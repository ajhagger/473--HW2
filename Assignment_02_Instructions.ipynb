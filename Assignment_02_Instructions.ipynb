{
 "cells": [
  {
   "cell_type": "markdown",
   "metadata": {
    "id": "uL8WuYNxiw2b"
   },
   "source": [
    "# ECE 473 Assignment 2 Instructions\n",
    "\n",
    "## **Instructions**\n",
    "This Jupyter notebook entitled **Assignment_02_Instructions** contains instructions for doing your assignment exercise.\n",
    "A second Jupyter notebook entitled **Assignment_02_Exercise** contains all the exercises that you will need to perform.\n",
    "A third Jupyter notebook entitled **uploader** contains code to generate an HTML version of your notebook, which you can then print and upload.  This avoids code or output being cutoff from the printout and should be used for uploading your PDF submission to Gradescope.\n",
    "\n",
    "As you read each section of this instructions notebook, you should try running the associated code snippets.  The colaboratory environment allows you to run code snippets locally by clicking on the arrow on the left of the code. This is a wonderful feature that allows you to experiment as you read. You should take advantage of this and experiment and test different ideas, so you can become more familiar with the Python and the Jupyter programing environment. \n",
    "\n",
    "At the end of each sub-section, there will be exercises to perform. \n",
    "You should perform the exercises in the document **Assignment_02_Exercise**, which will contain all your results. \n",
    "You can then hand in your results by printing the **Assignment_02_Exercise** document as a pdf with all code and simulation results included."
   ]
  },
  {
   "cell_type": "markdown",
   "metadata": {
    "id": "cl_eib43jaN3"
   },
   "source": [
    "## Section 1: Introduction to Python\n",
    "\n",
    "This section introduces basic Python semantics. The goal is to recap some important features in Python.\n"
   ]
  },
  {
   "cell_type": "markdown",
   "metadata": {
    "id": "7FYqzEiYjb0h"
   },
   "source": [
    "### Basics\n",
    "The most frequently used native Python structure is the list. A list in Python has many useful properties. For example：\n"
   ]
  },
  {
   "cell_type": "code",
   "execution_count": null,
   "metadata": {
    "colab": {
     "base_uri": "https://localhost:8080/"
    },
    "executionInfo": {
     "elapsed": 151,
     "status": "ok",
     "timestamp": 1630460204376,
     "user": {
      "displayName": "Zeyu Zhou",
      "photoUrl": "https://lh3.googleusercontent.com/a-/AOh14Gjvyiq75veKXP2kkm-KS4ceC5LJGDFkf9a1BZEg=s64",
      "userId": "00029861053861415114"
     },
     "user_tz": 240
    },
    "id": "5TaPnMXijdFM",
    "outputId": "2d82172f-f712-4710-b921-a312180e2aed"
   },
   "outputs": [],
   "source": [
    "A = [1,2,3,4]\n",
    "\n",
    "print(f'The length of A is {len(A)}')     # Length of A\n",
    "print(f'A*3 prints to {A*3}')          # List multiplication\n",
    "print(f'A+A prints to {A+A}')          # List concatanation\n",
    "A.append('end')                   # Appending to a list\n",
    "print(f'A appends a string gives {A}')"
   ]
  },
  {
   "cell_type": "markdown",
   "metadata": {
    "id": "CODfTO3RwvIh"
   },
   "source": [
    "**Important**: Python is a **0 index** language, which means all indices start at 0 (unlike in Matlab which starts at \"1\")."
   ]
  },
  {
   "cell_type": "code",
   "execution_count": null,
   "metadata": {
    "colab": {
     "base_uri": "https://localhost:8080/"
    },
    "executionInfo": {
     "elapsed": 132,
     "status": "ok",
     "timestamp": 1630460206007,
     "user": {
      "displayName": "Zeyu Zhou",
      "photoUrl": "https://lh3.googleusercontent.com/a-/AOh14Gjvyiq75veKXP2kkm-KS4ceC5LJGDFkf9a1BZEg=s64",
      "userId": "00029861053861415114"
     },
     "user_tz": 240
    },
    "id": "fsHMuM7_qJYW",
    "outputId": "633a64c5-8c32-47fd-c031-9f188b4bc03b"
   },
   "outputs": [],
   "source": [
    "# Python                 \n",
    "A = [0,1,2,3,4]         \n",
    "first = A[0]        # 0 indexing\n",
    "last = A[-1]        # negative indexing (going from the last to the first)\n",
    "print(f'first element is {first}, last element is {last}')"
   ]
  },
  {
   "cell_type": "markdown",
   "metadata": {
    "id": "W9j3Ywnnr1L8"
   },
   "source": [
    "Moreover, lists are also iterable which is very useful in loops. In fact, all `for` loops in Python iterate over an iterable object or similar. "
   ]
  },
  {
   "cell_type": "code",
   "execution_count": null,
   "metadata": {
    "colab": {
     "base_uri": "https://localhost:8080/"
    },
    "executionInfo": {
     "elapsed": 11,
     "status": "ok",
     "timestamp": 1630459334130,
     "user": {
      "displayName": "Zeyu Zhou",
      "photoUrl": "https://lh3.googleusercontent.com/a-/AOh14Gjvyiq75veKXP2kkm-KS4ceC5LJGDFkf9a1BZEg=s64",
      "userId": "00029861053861415114"
     },
     "user_tz": 240
    },
    "id": "-NbJwYDQsqcu",
    "outputId": "36570b71-59bf-4e6a-98d5-ee390f9d9db7"
   },
   "outputs": [],
   "source": [
    "print('elements in A are:', end=' ')    # note the end parameter is '\\n'(new line) by default\n",
    "for item in A:\n",
    "  print(item, end=' ')"
   ]
  },
  {
   "cell_type": "markdown",
   "metadata": {
    "id": "wvuXB3wDptPI"
   },
   "source": [
    "#### Exercise 1:\n",
    "Perform Exercise 1 in Jupyter notebook document **Assignment_02_Exercise**.\n",
    "\n",
    "\n",
    "\n",
    "---\n",
    "\n"
   ]
  },
  {
   "cell_type": "markdown",
   "metadata": {
    "id": "IBwocFbxwPEy"
   },
   "source": [
    "# Section 2: Introduction to data science packages\n",
    "First, we will introduce two useful packages.\n",
    "\n",
    "*   Numpy - Matrix processing package (See https://numpy.org/doc/stable/ for full documentation)\n",
    "*   Matplotlib - Data visualization package (See https://matplotlib.org/stable/contents.html for full documentation)"
   ]
  },
  {
   "cell_type": "code",
   "execution_count": null,
   "metadata": {
    "executionInfo": {
     "elapsed": 152,
     "status": "ok",
     "timestamp": 1630460646646,
     "user": {
      "displayName": "Zeyu Zhou",
      "photoUrl": "https://lh3.googleusercontent.com/a-/AOh14Gjvyiq75veKXP2kkm-KS4ceC5LJGDFkf9a1BZEg=s64",
      "userId": "00029861053861415114"
     },
     "user_tz": 240
    },
    "id": "CLeP7bdYpoDu"
   },
   "outputs": [],
   "source": [
    "import numpy as np                # import the numpy packages and use the shorter name \"np\"\n",
    "import matplotlib.pyplot as plt   # import matplotlib's pyplot package using the alias \"plt\""
   ]
  },
  {
   "cell_type": "code",
   "execution_count": null,
   "metadata": {
    "colab": {
     "base_uri": "https://localhost:8080/"
    },
    "executionInfo": {
     "elapsed": 131,
     "status": "ok",
     "timestamp": 1630460647643,
     "user": {
      "displayName": "Zeyu Zhou",
      "photoUrl": "https://lh3.googleusercontent.com/a-/AOh14Gjvyiq75veKXP2kkm-KS4ceC5LJGDFkf9a1BZEg=s64",
      "userId": "00029861053861415114"
     },
     "user_tz": 240
    },
    "id": "MIAME9LAm86J",
    "outputId": "b29325a6-7e16-4f0a-ae90-0b6e198a28ea"
   },
   "outputs": [],
   "source": [
    "# An array can be initialized from a list with all numbers.\n",
    "A = [0,1,2,3,4,5]\n",
    "A = np.array(A, dtype='int32')\n",
    "print(f'A: {A} which has the type {A.dtype}')\n",
    "\n",
    "# Other ways to initialize a numpy array\n",
    "A = np.zeros(5, dtype='float')          # initialize all elements zero\n",
    "print(f'A: {A} which has the type {A.dtype}')\n",
    "A = np.random.randint(low=0, high=10, size=5)  # initialize elements with random integer [0,10]\n",
    "print(f'A: {A} which has the type {A.dtype}')"
   ]
  },
  {
   "cell_type": "code",
   "execution_count": null,
   "metadata": {
    "colab": {
     "base_uri": "https://localhost:8080/"
    },
    "executionInfo": {
     "elapsed": 141,
     "status": "ok",
     "timestamp": 1630460654664,
     "user": {
      "displayName": "Zeyu Zhou",
      "photoUrl": "https://lh3.googleusercontent.com/a-/AOh14Gjvyiq75veKXP2kkm-KS4ceC5LJGDFkf9a1BZEg=s64",
      "userId": "00029861053861415114"
     },
     "user_tz": 240
    },
    "id": "87Fr5wJgrbg5",
    "outputId": "53fc5d23-88d7-4c8a-b801-33482f66f265"
   },
   "outputs": [],
   "source": [
    "A = np.array([0,1,2,3,4,5])\n",
    "print(f'A is {A}')\n",
    "\n",
    "# Get the shape of the array\n",
    "print(f'A has the shape {A.shape}')\n",
    "\n",
    "# Array logic indexing \n",
    "print(f'A[A>2] is {A[A>2]}')   # select all elements that are greater than 2\n",
    "\n",
    "# Array slicing\n",
    "print(f'A[:3] is {A[:3]}')     # first 3 elements\n",
    "print(f'A[-3:] is {A[-3:]}')   # last 3 elements\n",
    "\n",
    "# Array reshaping\n",
    "# (Note -1 here is not an indication for the numbers of dimension, \n",
    "#  just a special symbol that tells numpy to auto-compute the dimension.)\n",
    "Anew = A.reshape(3,-1)   # -1 is automatically filled in with 2\n",
    "print(f'A after reshaping \\n{Anew}\\nand the new shape is {Anew.shape}')"
   ]
  },
  {
   "cell_type": "markdown",
   "metadata": {},
   "source": [
    "Let's use matplotlib to plot two figures side by side while sharing the y axis."
   ]
  },
  {
   "cell_type": "code",
   "execution_count": null,
   "metadata": {
    "colab": {
     "base_uri": "https://localhost:8080/",
     "height": 408
    },
    "executionInfo": {
     "elapsed": 542,
     "status": "ok",
     "timestamp": 1630460813610,
     "user": {
      "displayName": "Zeyu Zhou",
      "photoUrl": "https://lh3.googleusercontent.com/a-/AOh14Gjvyiq75veKXP2kkm-KS4ceC5LJGDFkf9a1BZEg=s64",
      "userId": "00029861053861415114"
     },
     "user_tz": 240
    },
    "id": "XiIx0_7stEFo",
    "outputId": "02c24ce2-97dc-4068-9d69-5a09de224b58"
   },
   "outputs": [],
   "source": [
    "Y = np.arange(0,1,0.1)          # initialize using the arange() function \n",
    "X = range(len(Y))\n",
    "\n",
    "plt.figure(figsize=(15,6))         # Create a figure with size 15 by 6\n",
    "fig, axes = plt.subplots(nrows=1, ncols=2, figsize=(15,6), sharey=True)  # Create a figure with an array of subplots\n",
    "# Plot on first subfigure\n",
    "ax = axes[0]\n",
    "ax.plot(X,Y)               # Plot Y w.r.t X\n",
    "ax.set_title('$y=x$')             # Give the current subplot a title which can be typed in Latex form\n",
    "ax.set_xlabel('x-axis')            # give x label a name\n",
    "ax.set_ylabel('y-axis')            # give y label a name\n",
    "\n",
    "ax = axes[1]\n",
    "ax.plot(X,Y**2)\n",
    "ax.set_title('$y=x^2$')\n",
    "ax.set_xlim(-1,11)              # Setting up the visual range for x-axis\n",
    "ax.set_xticks(range(-1,12))          # Specify the ticks on the x-axis\n",
    "ax.set_xlabel('x-axis')            # give x label a name\n",
    "ax.set_ylabel('y-axis')            # give y label a name\n",
    "\n",
    "plt.show()"
   ]
  },
  {
   "cell_type": "markdown",
   "metadata": {
    "id": "Mm1L4TQXYICL"
   },
   "source": [
    "There also exists Python packages for neural networks and deep learning. Here are some popular packages:\n",
    "\n",
    "*   TensorFlow (Google)\n",
    "*   PyTorch (Facebook)\n",
    "*   MxNet (Apache/Microsoft/Amazon)\n",
    "\n",
    "We will use some of these in later assignments."
   ]
  },
  {
   "cell_type": "markdown",
   "metadata": {
    "id": "UhMS-7OaryJF"
   },
   "source": [
    "#### Exercise 2\n",
    "Perform Exercise 2 in Jupyter notebook document **Assignment_02_Exercise**.\n",
    "\n",
    "----"
   ]
  },
  {
   "cell_type": "markdown",
   "metadata": {
    "id": "ArFUX-aQf8Ke"
   },
   "source": [
    "# Section 3: A PCA algorithm for sparse data matrix"
   ]
  },
  {
   "cell_type": "markdown",
   "metadata": {
    "id": "ArFUX-aQf8Ke"
   },
   "source": [
    "## Background on sparse matrices\n",
    "Sparse matrices which contain many zeros are extremely useful in certain applications.  For example, a large graph such as a social network can be represented by an [adjacency matrix](https://en.wikipedia.org/wiki/Adjacency_matrix) in which the matrix value of the $i,j$-th element is 1 if and only if there is a connection between person $i$ and person $j$.  Suppose you are modeling a million people.  While the matrix is 1 million by 1 million, each person is only connected to maybe a few thousand other people.  Thus, the total number of entries is $(10^6)^2 = 10^{12}$ but the number of nonzeros is only $10^6 \\times 1000 = 10^9$.  Thus, the memory savings alone is on the order of $1000$.  Additionally, matrix vector multiplications are significantly faster for very sparse matrices. The internal format of sparse matrices is outside the scope of this exercise but you can find more details here: https://en.wikipedia.org/wiki/Sparse_matrix."
   ]
  },
  {
   "cell_type": "markdown",
   "metadata": {
    "id": "ArFUX-aQf8Ke"
   },
   "source": [
    "## PCA for sparce matrices\n",
    "In the next exercise, your task will be to find the first principal component vector of a **sparse matrix** (sparse data matrices are very useful but must be handled carefully to avoid extra computation as we will see).\n",
    "Finding the first principal component is equivalent to finding the the top right singular vector of a centered zero-mean data matrix (or equivalently the top eigenvector of $X_c^T X_c$).\n",
    "In particular, we will use the [power iteration](https://en.wikipedia.org/wiki/Power_iteration) method (see the linke for more details) as it only requires simple matrix vector and vector vector multiplications.\n",
    "In order to accomplish this, we first give the power iteration algorithm for our sparse matrix $X$ in pseudo-code (as you will often see in papers)：\n",
    ">Input: $X\\in \\cal{R}^{n \\times p}$ (sparse matrix)   \n",
    ">Output: $v_1$ (top right singular vector of centered matrix)   \n",
    "> \n",
    ">$\\mu = \\frac{1}{n}\\sum_{i=1}^n x_i$  \n",
    ">$v^{(0)} \\sim \\text{Normal}(0,I)$  \n",
    "> \n",
    ">For $i=1$ to $K$ iterations  \n",
    ">$\\quad\\quad v = (X-\\mathbb{1}\\mu^T)^T (X-\\mathbb{1}\\mu^T)v^{(i-1)}$  \n",
    ">$\\quad\\quad v^{(i)} = \\frac{v}{\\|v\\|_2}$  \n",
    ">Return $v^{(i)}$  \n",
    "\n",
    "Notice that $\\mu \\in \\cal{R}^p$ is the mean vector of $X$, and $\\mathbb{1} \\in \\cal{R}^n$ is the column vector of all one's, i.e., $\\mathbb{1}=[1,1,1,\\cdots,1]^T$). Thus, $X_c = (X-\\mathbb{1}\\mu^T)$ is the centered data matrix where the mean is subtracted from every row.  This centering step is critical for performing PCA correctly via SVD. "
   ]
  },
  {
   "cell_type": "markdown",
   "metadata": {
    "id": "rW1OxYCRf8Kf"
   },
   "source": [
    "### Efficient computation of algorithm for sparse matrices\n",
    "The algorithm so far is mathematically well defined. However, notice the step\n",
    ">$v = (X-\\mathbb{1}\\mu^T)^T (X-\\mathbb{1}\\mu^T)v^{(i-1)}$\n",
    "\n",
    "This is not favorable in the sense that the matrix $X$ is sparse.  If the operations are performed in the order defined by the parenthesis, then the intermediate computation $(X-\\mu \\mathbb{1}^T)$ will not be sparse (i.e., because of the mean $\\mu$ is not sparse, the resulting matrix will no longer be sparse).\n",
    "This will destroy the benefit of using sparse matrices.\n",
    "Therefore, instead of computing the vector $v$ like above, we can rearrange the computation for the above equation to achieve the following new equation based on properties of matrix products (a good exercise is to derive this reordering yourself):\n",
    ">$v = (X-\\mathbb{1}\\mu^T)^T (X-\\mathbb{1}\\mu^T)v^{(i-1)}$\n",
    "\n",
    ">$\\hphantom{v} = (X^T-\\mu\\mathbb{1}^T) (X-\\mathbb{1}\\mu^T)v^{(i-1)}$ \n",
    "\n",
    ">$\\hphantom{v} = (X^T X -\\mu\\mathbb{1}^T X - X^T\\mathbb{1}\\mu^T +\\mu\\mathbb{1}^T\\mathbb{1}\\mu^T)v^{(i-1)}$ \n",
    "\n",
    ">$\\hphantom{v} = X^T Xv^{(i-1)} -\\mu\\mathbb{1}^T Xv^{(i-1)} - X^T\\mathbb{1}\\mu^Tv^{(i-1)} +\\mu\\mathbb{1}^T\\mathbb{1}\\mu^Tv^{(i-1)}$ \n",
    "\n",
    ">$\\hphantom{v} = X^T (Xv^{(i-1)}) -\\mu(\\mathbb{1}^T (Xv^{(i-1)})) - (X^T\\mathbb{1})(\\mu^Tv^{(i-1)}) +\\mu(\\mathbb{1}^T\\mathbb{1})(\\mu^Tv^{(i-1)})$ \n",
    "\n",
    "The parenthesis on the last line show which computations should be computed first.\n",
    "While mathematically, the last two lines are the same, the order of computation matters significantly when computing these.\n",
    "In this way, we only need to compute multiplications between a sparse matrix and a vector (e.g., $Xv$ or $X^T \\mathbb{1}$), which is much faster than dense matrix computations.\n",
    "Also, we never need to form an intermediate dense matrices (e.g., $(X-\\mathbb{1}\\mu^T)$ or $(X^T X)$). \n",
    "This demonstrates that while the mathematics may be the same for an abstract algorithm, the order of computation matters significantly when implemented on the computer."
   ]
  },
  {
   "cell_type": "markdown",
   "metadata": {
    "id": "rW1OxYCRf8Kf"
   },
   "source": [
    "### Sparse implementation in numpy\n",
    "For implementing this in numpy, you will be creating sparse matrices via `csr_matrix` from the `scipy.sparse` package (a package that provides additional capabilities beyond standard numpy).  Note that all sparse matrices are 2D arrays; there is not really a sparse \"vector\"---rather like in MATLAB a sparse \"vector\" is just a 2D array in which one dimension happens to be 1. (Remember that numpy dense vectors are actually 1D arrays.) We provide some starter code to help with this.  In your code, everything except the input sparse matrix should just be a dense numpy 1D array.\n",
    "\n",
    "To perform sparse matrix vector multiplication, you MUST use the `dot(v)` method of the sparse matrix, e.g., `X_sparse.dot(v)` rather than `np.dot(X_sparse, v)` or `np.matmul(X_sparse, v)`.  This is to ensure that the internal **sparse** matrix-vector multiplication is used.  We give a few examples below."
   ]
  },
  {
   "cell_type": "code",
   "execution_count": null,
   "metadata": {},
   "outputs": [],
   "source": [
    "from scipy.sparse import csr_matrix\n",
    "X = np.random.randint(2, size=(4,2))\n",
    "X_sparse = csr_matrix(X) # Create sparse matrix\n",
    "print(type(X))\n",
    "print(X)\n",
    "print(type(X_sparse))\n",
    "print(X_sparse)\n",
    "\n",
    "print('Sparse matrix vector multiplication')\n",
    "v = np.random.rand(X_sparse.shape[1])\n",
    "out = X_sparse.dot(v) # Sparse matrix-vector multiplication\n",
    "print(out)\n",
    "print('Check with dense matrix vector multiplication')\n",
    "out2 = X.dot(v)\n",
    "print(out2)"
   ]
  },
  {
   "cell_type": "markdown",
   "metadata": {},
   "source": [
    "Below is a demo of various possible mistakes for doing sparse matrix-vector multiplication. The `X_sparse.dot(v)` is the correct version for sparse matrix-vector multiplication."
   ]
  },
  {
   "cell_type": "code",
   "execution_count": null,
   "metadata": {},
   "outputs": [],
   "source": [
    "X = np.array([[0,0,0],[1,0,1]])\n",
    "print(f'X {type(X)}\\n{X}')\n",
    "X_sparse = csr_matrix(X)\n",
    "print(f'X_sparse {type(X_sparse)}\\n{X_sparse}')\n",
    "\n",
    "v = np.random.RandomState(0).randn(X.shape[1])\n",
    "print(f'v {type(v)}\\n{v}')\n",
    "\n",
    "# Normal dot product\n",
    "print('---------')\n",
    "print('Equivalent dot products')\n",
    "print('np.dot(X,v)', np.dot(X, v))\n",
    "print('X.dot(v)', X.dot(v))\n",
    "print('X_sparse.dot(v)', X_sparse.dot(v)) # This is what you need to use in your code\n",
    "\n",
    "# NOT a dot product since X_sparse is a sparse matrix\n",
    "#  (It treats X_sparse as a single object and multiplies each by v)\n",
    "print('--------- Not a matrix vector product ---------')\n",
    "out = np.dot(X_sparse, v)\n",
    "print('np.dot(X_sparse,v)\\n', out)\n",
    "print('Three matrices of np.dot')\n",
    "print(out[0].toarray())\n",
    "print(out[1].toarray())\n",
    "print(out[2].toarray())"
   ]
  },
  {
   "cell_type": "markdown",
   "metadata": {
    "id": "wLt7BzBYB4j-"
   },
   "source": [
    "#### Exercise 3\n",
    "Perform Exercise 3 in Jupyter notebook document **Assignment_01_Exercise**.\n",
    "\n",
    "----"
   ]
  },
  {
   "cell_type": "markdown",
   "metadata": {
    "id": "ZjrgtvB-_b7-"
   },
   "source": [
    "# Appendix: Other useful Python/Numpy tips (Highly recommended for reading)"
   ]
  },
  {
   "cell_type": "markdown",
   "metadata": {
    "id": "Ql5O_aoK-f5Y"
   },
   "source": [
    "### Important Tip: Whenever possible, avoid using `range` or indices like `i` and `j` for loops\n",
    "Using `range` or indices is very prone to error when looping over lists/arrays or any other list-like object (though common in other languages such as C++ or Matlab.\n",
    "Thus, I suggest avoiding using indices for looping (unless you just want to print out the list number for debugging purposes, look up the Python function `enumerate`).\n",
    "One usual exception to this is for doing multiple iterations of an algorithm.\n",
    "\n",
    "Instead, use Python's simple iterator interface to loop over lists or arrays.  You should be able to find tutorials online that explain python iterators and the for loop in more detail."
   ]
  },
  {
   "cell_type": "markdown",
   "metadata": {
    "id": "9ohrB9fG-3D1"
   },
   "source": [
    "### `zip(a,b,...)` can be very useful for iterating over multiple lists that correspond to each other\n",
    "**Note:** `zip` will only match elements up to the **shortest** iterable. For example `zip([1,2], ['a'])` will only produce one item `(1,a)` since the second list only has one item."
   ]
  },
  {
   "cell_type": "code",
   "execution_count": null,
   "metadata": {
    "colab": {
     "base_uri": "https://localhost:8080/"
    },
    "executionInfo": {
     "elapsed": 137,
     "status": "ok",
     "timestamp": 1630460956859,
     "user": {
      "displayName": "Zeyu Zhou",
      "photoUrl": "https://lh3.googleusercontent.com/a-/AOh14Gjvyiq75veKXP2kkm-KS4ceC5LJGDFkf9a1BZEg=s64",
      "userId": "00029861053861415114"
     },
     "user_tz": 240
    },
    "id": "fu_II0nu8uon",
    "outputId": "c01d7e9a-d4a2-4b2a-e128-78981f689445"
   },
   "outputs": [],
   "source": [
    "num_arr = 10*np.arange(10)\n",
    "char_list = ['a','b','c','d']\n",
    "\n",
    "for n, c in zip(num_arr, char_list):\n",
    "    print('n=', n, 'c=', c)\n",
    "    \n",
    "for n, c, xvec in zip(num_arr, char_list, X):\n",
    "    print('n=', n, 'c=', c, 'xvec=', xvec)"
   ]
  },
  {
   "cell_type": "code",
   "execution_count": null,
   "metadata": {
    "colab": {
     "base_uri": "https://localhost:8080/"
    },
    "executionInfo": {
     "elapsed": 9,
     "status": "ok",
     "timestamp": 1630460956988,
     "user": {
      "displayName": "Zeyu Zhou",
      "photoUrl": "https://lh3.googleusercontent.com/a-/AOh14Gjvyiq75veKXP2kkm-KS4ceC5LJGDFkf9a1BZEg=s64",
      "userId": "00029861053861415114"
     },
     "user_tz": 240
    },
    "id": "s-qzg5lr_QPO",
    "outputId": "3dceea0a-8a41-4cd5-b9b7-e059bbd9beb1"
   },
   "outputs": [],
   "source": [
    "# Loop through first 10 x-y pairs\n",
    "x = np.arange(0,2,0.1)\n",
    "y = x**2\n",
    "\n",
    "for xx, yy in zip(x[:10], y[:10]):\n",
    "  print('x=', xx, 'y=', yy)\n",
    "\n",
    "print('Note: Here tells you the rounding error for numpy operations')"
   ]
  },
  {
   "cell_type": "markdown",
   "metadata": {
    "id": "b8ohspz_Bl4P"
   },
   "source": [
    "### _List Comprehensions_ are also very useful and include MAP and FILTER operations\n",
    "\n",
    "- Suppose you want to map a list of numbers to a list of strings\n",
    "- Suppose you only want to map odd numbers\n",
    "- Syntax `[<expression> for <item> in <iterable> if <condition>]`"
   ]
  },
  {
   "cell_type": "code",
   "execution_count": null,
   "metadata": {
    "colab": {
     "base_uri": "https://localhost:8080/"
    },
    "executionInfo": {
     "elapsed": 8,
     "status": "ok",
     "timestamp": 1630460956989,
     "user": {
      "displayName": "Zeyu Zhou",
      "photoUrl": "https://lh3.googleusercontent.com/a-/AOh14Gjvyiq75veKXP2kkm-KS4ceC5LJGDFkf9a1BZEg=s64",
      "userId": "00029861053861415114"
     },
     "user_tz": 240
    },
    "id": "dRjr2nxi_N-C",
    "outputId": "4a768a0e-7ed3-4853-8637-9cf86c0277ce"
   },
   "outputs": [],
   "source": [
    "num_list = [1, 2, 3, 4, 5]\n",
    "str_list = []\n",
    "for i in range(len(num_list)):\n",
    "    str_list.append('Num:' + str(num_list[i]))\n",
    "print('With index loops')\n",
    "print(str_list)\n",
    "\n",
    "# Use iterators\n",
    "str_list = []\n",
    "for n in num_list:\n",
    "    str_list.append('Num:' + str(n))\n",
    "print('With iterator loops')\n",
    "print(str_list)\n",
    "\n",
    "# Use list comprehension\n",
    "str_list = ['Num:' + str(n) for n in num_list]\n",
    "print('With list comprehension')\n",
    "print(str_list)\n",
    "\n",
    "# Use list comprehension\n",
    "str_list = ['Num:' + str(n) for n in num_list if np.mod(n, 2) == 1]\n",
    "print('Odd numbers only with list comprehension')\n",
    "print(str_list)"
   ]
  },
  {
   "cell_type": "markdown",
   "metadata": {
    "id": "Exs0ZF2OB5oD"
   },
   "source": [
    "### Numpy reduction functions\n",
    "- Numpy includes many useful **reduction** functions such as `np.sum`, `np.mean`, `np.prod`, `np.min`, `np.max`, etc.\n",
    "- The `axis` argument is important and is interpreted as follows:\n",
    "  1. If no axis argument, then just apply to all numbers in all dimensions.\n",
    "  2. If axis argument given, then apply the reduction along that dimension and leave other dimensions alone."
   ]
  },
  {
   "cell_type": "code",
   "execution_count": null,
   "metadata": {
    "colab": {
     "base_uri": "https://localhost:8080/"
    },
    "executionInfo": {
     "elapsed": 7,
     "status": "ok",
     "timestamp": 1630460956990,
     "user": {
      "displayName": "Zeyu Zhou",
      "photoUrl": "https://lh3.googleusercontent.com/a-/AOh14Gjvyiq75veKXP2kkm-KS4ceC5LJGDFkf9a1BZEg=s64",
      "userId": "00029861053861415114"
     },
     "user_tz": 240
    },
    "id": "eb8pU0riBub_",
    "outputId": "b4347576-95e1-4645-99a2-fdaf3e415bcd"
   },
   "outputs": [],
   "source": [
    "A = np.arange(3*4).reshape(3, 4)\n",
    "print(A)\n",
    "\n",
    "print('With no argument, it is the total sum', np.sum(A))\n",
    "print('With axis=0, it sums along the first dimension (i.e. along the rows)')\n",
    "print(np.sum(A, axis=0))\n",
    "print('With axis=1, it sums along the second dimension (i.e. along the columns)')\n",
    "print(np.sum(A, axis=1))"
   ]
  },
  {
   "cell_type": "markdown",
   "metadata": {},
   "source": [
    "### Use of time.time()"
   ]
  },
  {
   "cell_type": "code",
   "execution_count": null,
   "metadata": {},
   "outputs": [],
   "source": [
    "import time\n",
    "\n",
    "start = time.time()\n",
    "for _ in range(1000000):\n",
    "    pass\n",
    "end = time.time()\n",
    "print(end - start)"
   ]
  }
 ],
 "metadata": {
  "colab": {
   "authorship_tag": "ABX9TyMux7l9fXBAlgKFZPb3AwUM",
   "collapsed_sections": [
    "cl_eib43jaN3"
   ],
   "name": "Assignment_02_Instructions.ipynb",
   "provenance": []
  },
  "kernelspec": {
   "display_name": "Python 3.10.6 64-bit",
   "language": "python",
   "name": "python3"
  },
  "language_info": {
   "codemirror_mode": {
    "name": "ipython",
    "version": 3
   },
   "file_extension": ".py",
   "mimetype": "text/x-python",
   "name": "python",
   "nbconvert_exporter": "python",
   "pygments_lexer": "ipython3",
   "version": "3.9.6"
  },
  "vscode": {
   "interpreter": {
    "hash": "b0fa6594d8f4cbf19f97940f81e996739fb7646882a419484c72d19e05852a7e"
   }
  }
 },
 "nbformat": 4,
 "nbformat_minor": 1
}
